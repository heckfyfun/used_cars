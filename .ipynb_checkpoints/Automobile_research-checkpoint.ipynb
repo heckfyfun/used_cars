{
 "cells": [
  {
   "cell_type": "markdown",
   "id": "e4e082a1",
   "metadata": {},
   "source": [
    "# Описание задачи"
   ]
  },
  {
   "cell_type": "markdown",
   "id": "e85901a3",
   "metadata": {},
   "source": [
    "\n",
    "Многие знают про маркетплейсы где продаются б/у вещи, на которых есть возможность недорого купить качественную и полезную вещь. Но всегда волнует вопрос - кто и как устанавливает цену, и какие его характеристики больше всего влияют на итоговую стоимость продажи?! Вопрос становиться особо актуальным, если речь идет про дорогие товары, например про автомобили!    \n",
    "\n",
    "В рамках данного исследования будет вестить работа с данными о продажах автомобилей на вторичном рынке. \n",
    "\n",
    "**Целью проекта будет *разработанная модель* предсказания стоимости автомобиля на вторичном рынке.**\n"
   ]
  },
  {
   "cell_type": "markdown",
   "id": "8d68750b",
   "metadata": {},
   "source": [
    "## Данные\n",
    "**train.csv** - информация о продажах (~440000) автомобилей с аукционов, которые будут использоваться в качестве обучающих данных.\n",
    "\n",
    "**test.csv** - информация о продажах (~110000) автомобилей с аукционов, которые будут использоваться в качестве тестовых данных. Ваша задача - предсказать значение 'sellingprice' для каждого автомобиля из этого датасета.\n",
    "\n",
    "**sample_submission.csv** - файл предсказаний в правильном формате.\n",
    "vin - идентификатор каждого автомобиля в тестовом наборе.\n",
    "sellingprice - Целевой признак. Для каждого автомобиля предскажите числовое значение стоимости автомобиля."
   ]
  },
  {
   "cell_type": "markdown",
   "id": "c42005cb",
   "metadata": {},
   "source": [
    "## Описание полей данных\n",
    "`year` - год производства\n",
    "\n",
    "`make` - производитель\n",
    "\n",
    "`model` - модель\n",
    "\n",
    "`trim` - модификация\n",
    "\n",
    "`body` - тип кузова\n",
    "\n",
    "`transmission` - тип КПП\n",
    "\n",
    "`vin` - идентификатор (вин)\n",
    "\n",
    "`state` - штат регистрации\n",
    "\n",
    "`condition` - состояние по шкале (1-5)\n",
    "\n",
    "`odometer` - пробег в милях\n",
    "\n",
    "`color` - цвет кузова\n",
    "\n",
    "`interior` - цвет интерьера\n",
    "\n",
    "`seller` - продавец\n",
    "\n",
    "`sellingprice` - стоимость продажи\n",
    "\n",
    "`saledate` - дата продажи"
   ]
  },
  {
   "cell_type": "markdown",
   "id": "ce7ce28f",
   "metadata": {},
   "source": [
    "## Ход решения задачи\n",
    "\n",
    "Пошагово:\n",
    "\n",
    "1. загрузка и ознакомление с данными,\n",
    "2. предварительная обработка,\n",
    "3. полноценный разведочный анализ,\n",
    "4. разработка новых синтетических признаков,\n",
    "5. проверка на мультиколлинеарность,\n",
    "6. отбор финального набора обучающих признаков,\n",
    "7. выбор и обучение моделей,\n",
    "8. итоговая оценка качества предсказания лучшей модели,\n",
    "9. анализ важности ее признаков."
   ]
  },
  {
   "cell_type": "markdown",
   "id": "a4d5f4aa",
   "metadata": {},
   "source": [
    "### 1. Загрузка и ознакомление с данными"
   ]
  },
  {
   "cell_type": "code",
   "execution_count": 1,
   "id": "ca040642",
   "metadata": {
    "scrolled": true
   },
   "outputs": [
    {
     "name": "stdout",
     "output_type": "stream",
     "text": [
      "Requirement already satisfied: category_encoders in /Users/moygospodin/opt/anaconda3/lib/python3.9/site-packages (2.6.0)\n",
      "Requirement already satisfied: pandas>=1.0.5 in /Users/moygospodin/opt/anaconda3/lib/python3.9/site-packages (from category_encoders) (1.4.2)\n",
      "Requirement already satisfied: statsmodels>=0.9.0 in /Users/moygospodin/opt/anaconda3/lib/python3.9/site-packages (from category_encoders) (0.13.2)\n",
      "Requirement already satisfied: numpy>=1.14.0 in /Users/moygospodin/opt/anaconda3/lib/python3.9/site-packages (from category_encoders) (1.21.5)\n",
      "Requirement already satisfied: scipy>=1.0.0 in /Users/moygospodin/opt/anaconda3/lib/python3.9/site-packages (from category_encoders) (1.7.3)\n",
      "Requirement already satisfied: patsy>=0.5.1 in /Users/moygospodin/opt/anaconda3/lib/python3.9/site-packages (from category_encoders) (0.5.2)\n",
      "Requirement already satisfied: scikit-learn>=0.20.0 in /Users/moygospodin/opt/anaconda3/lib/python3.9/site-packages (from category_encoders) (1.0.2)\n",
      "Requirement already satisfied: python-dateutil>=2.8.1 in /Users/moygospodin/opt/anaconda3/lib/python3.9/site-packages (from pandas>=1.0.5->category_encoders) (2.8.2)\n",
      "Requirement already satisfied: pytz>=2020.1 in /Users/moygospodin/opt/anaconda3/lib/python3.9/site-packages (from pandas>=1.0.5->category_encoders) (2021.3)\n",
      "Requirement already satisfied: six in /Users/moygospodin/opt/anaconda3/lib/python3.9/site-packages (from patsy>=0.5.1->category_encoders) (1.16.0)\n",
      "Requirement already satisfied: threadpoolctl>=2.0.0 in /Users/moygospodin/opt/anaconda3/lib/python3.9/site-packages (from scikit-learn>=0.20.0->category_encoders) (2.2.0)\n",
      "Requirement already satisfied: joblib>=0.11 in /Users/moygospodin/opt/anaconda3/lib/python3.9/site-packages (from scikit-learn>=0.20.0->category_encoders) (1.1.0)\n",
      "Requirement already satisfied: packaging>=21.3 in /Users/moygospodin/opt/anaconda3/lib/python3.9/site-packages (from statsmodels>=0.9.0->category_encoders) (21.3)\n",
      "Requirement already satisfied: pyparsing!=3.0.5,>=2.0.2 in /Users/moygospodin/opt/anaconda3/lib/python3.9/site-packages (from packaging>=21.3->statsmodels>=0.9.0->category_encoders) (3.0.4)\n"
     ]
    }
   ],
   "source": [
    "!pip install category_encoders -U"
   ]
  },
  {
   "cell_type": "code",
   "execution_count": null,
   "id": "6e27ee04",
   "metadata": {},
   "outputs": [
    {
     "name": "stdout",
     "output_type": "stream",
     "text": [
      "Requirement already satisfied: catboost in /Users/moygospodin/opt/anaconda3/lib/python3.9/site-packages (1.1.1)\n",
      "Requirement already satisfied: matplotlib in /Users/moygospodin/opt/anaconda3/lib/python3.9/site-packages (from catboost) (3.5.1)\n",
      "Requirement already satisfied: plotly in /Users/moygospodin/opt/anaconda3/lib/python3.9/site-packages (from catboost) (5.6.0)\n",
      "Requirement already satisfied: numpy>=1.16.0 in /Users/moygospodin/opt/anaconda3/lib/python3.9/site-packages (from catboost) (1.21.5)\n",
      "Requirement already satisfied: scipy in /Users/moygospodin/opt/anaconda3/lib/python3.9/site-packages (from catboost) (1.7.3)\n",
      "Requirement already satisfied: graphviz in /Users/moygospodin/opt/anaconda3/lib/python3.9/site-packages (from catboost) (0.20.1)\n",
      "Requirement already satisfied: pandas>=0.24.0 in /Users/moygospodin/opt/anaconda3/lib/python3.9/site-packages (from catboost) (1.4.2)\n",
      "Requirement already satisfied: six in /Users/moygospodin/opt/anaconda3/lib/python3.9/site-packages (from catboost) (1.16.0)\n",
      "Requirement already satisfied: python-dateutil>=2.8.1 in /Users/moygospodin/opt/anaconda3/lib/python3.9/site-packages (from pandas>=0.24.0->catboost) (2.8.2)\n",
      "Requirement already satisfied: pytz>=2020.1 in /Users/moygospodin/opt/anaconda3/lib/python3.9/site-packages (from pandas>=0.24.0->catboost) (2021.3)\n",
      "Requirement already satisfied: pillow>=6.2.0 in /Users/moygospodin/opt/anaconda3/lib/python3.9/site-packages (from matplotlib->catboost) (9.0.1)\n",
      "Requirement already satisfied: cycler>=0.10 in /Users/moygospodin/opt/anaconda3/lib/python3.9/site-packages (from matplotlib->catboost) (0.11.0)\n",
      "Requirement already satisfied: pyparsing>=2.2.1 in /Users/moygospodin/opt/anaconda3/lib/python3.9/site-packages (from matplotlib->catboost) (3.0.4)\n",
      "Requirement already satisfied: packaging>=20.0 in /Users/moygospodin/opt/anaconda3/lib/python3.9/site-packages (from matplotlib->catboost) (21.3)\n",
      "Requirement already satisfied: fonttools>=4.22.0 in /Users/moygospodin/opt/anaconda3/lib/python3.9/site-packages (from matplotlib->catboost) (4.25.0)\n",
      "Requirement already satisfied: kiwisolver>=1.0.1 in /Users/moygospodin/opt/anaconda3/lib/python3.9/site-packages (from matplotlib->catboost) (1.3.2)\n",
      "Requirement already satisfied: tenacity>=6.2.0 in /Users/moygospodin/opt/anaconda3/lib/python3.9/site-packages (from plotly->catboost) (8.0.1)\n"
     ]
    }
   ],
   "source": [
    "!pip install catboost -U"
   ]
  },
  {
   "cell_type": "code",
   "execution_count": null,
   "id": "5120bc3e",
   "metadata": {},
   "outputs": [],
   "source": [
    "#импортируем необходимые для работы библиотеки\n",
    "import pandas as pd\n",
    "pd.set_option\n",
    "pd.options.mode.chained_assignment = None\n",
    "import matplotlib.pyplot as plt \n",
    "import numpy as np\n",
    "import seaborn as sns\n",
    "\n",
    "\n",
    "from catboost import CatBoostRegressor\n",
    "from catboost import Pool, cv\n",
    "\n",
    "from sklearn.model_selection import train_test_split\n",
    "from sklearn.model_selection import GridSearchCV\n",
    "from sklearn.model_selection import cross_validate\n",
    "\n",
    "from sklearn.tree import DecisionTreeRegressor\n",
    "from sklearn.ensemble import RandomForestRegressor\n",
    "from sklearn.linear_model import LinearRegression\n",
    "\n",
    "from sklearn.preprocessing import OrdinalEncoder\n",
    "\n",
    "from sklearn.experimental import enable_iterative_imputer\n",
    "from sklearn.impute import SimpleImputer\n",
    "from sklearn.impute import IterativeImputer\n",
    "\n",
    "from sklearn.base import TransformerMixin\n",
    "\n",
    "from sklearn.metrics import accuracy_score\n",
    "from sklearn.metrics import precision_score\n",
    "from sklearn.metrics import recall_score\n",
    "from sklearn.metrics import f1_score\n",
    "from sklearn.metrics import roc_auc_score\n",
    "from sklearn.metrics import recall_score\n",
    "from sklearn.metrics import mean_absolute_percentage_error as mape"
   ]
  },
  {
   "cell_type": "markdown",
   "id": "8c0b88dd",
   "metadata": {},
   "source": [
    "После загрузки необходимых библиотек подгрузим датасеты"
   ]
  },
  {
   "cell_type": "code",
   "execution_count": null,
   "id": "4dc30a52",
   "metadata": {},
   "outputs": [],
   "source": [
    "df_train = pd.read_csv('/Users/moygospodin/Documents/Practicum/Projects/Automobile_research/datasets/train.csv')\n",
    "df_test = pd.read_csv('/Users/moygospodin/Documents/Practicum/Projects/Automobile_research/datasets/test.csv')"
   ]
  },
  {
   "cell_type": "markdown",
   "id": "4c01c040",
   "metadata": {},
   "source": [
    "Проверим, что все отображается верно"
   ]
  },
  {
   "cell_type": "code",
   "execution_count": null,
   "id": "84029e14",
   "metadata": {},
   "outputs": [],
   "source": [
    "display(df_train.head(5))\n",
    "display(df_test.head(5))"
   ]
  },
  {
   "cell_type": "markdown",
   "id": "609386e0",
   "metadata": {},
   "source": [
    "### 2. Предобработка данных"
   ]
  },
  {
   "cell_type": "markdown",
   "id": "ee92aae3",
   "metadata": {},
   "source": [
    "Нужно посмотреть, все ли данные корректны в датасетах. Удалить дубликаты, если таковые имеются и убрать столбцы с данными, которые либо дублируют друг друга, либо не помогут в выполнении задачи. Проверить на выбросы и пропуски в данных.\n"
   ]
  },
  {
   "cell_type": "code",
   "execution_count": null,
   "id": "d12a5b4e",
   "metadata": {
    "scrolled": true
   },
   "outputs": [],
   "source": [
    "for i in [df_train, df_test]:\n",
    "    display(i.info())\n",
    "    display(i.isna().sum())\n",
    "    display(i.duplicated().sum())"
   ]
  },
  {
   "cell_type": "markdown",
   "id": "572395f9",
   "metadata": {},
   "source": [
    "везде нижний регистр"
   ]
  },
  {
   "cell_type": "code",
   "execution_count": null,
   "id": "cc235831",
   "metadata": {},
   "outputs": [],
   "source": [
    "df_train = df_train.applymap(lambda s: s.lower() if type(s) == str else s)\n",
    "df_test = df_test.applymap(lambda s: s.lower() if type(s) == str else s)"
   ]
  },
  {
   "cell_type": "code",
   "execution_count": null,
   "id": "d021ae5d",
   "metadata": {
    "scrolled": true
   },
   "outputs": [],
   "source": [
    "for i in df_train.columns:\n",
    "    display(df_train[i].value_counts())"
   ]
  },
  {
   "cell_type": "markdown",
   "id": "dcb853b0",
   "metadata": {},
   "source": [
    "Заполняем пропуски"
   ]
  },
  {
   "cell_type": "code",
   "execution_count": null,
   "id": "d2c4d0fc",
   "metadata": {},
   "outputs": [],
   "source": [
    "class DataFrameImputer(TransformerMixin):\n",
    "\n",
    "    def __init__(self):\n",
    "        \"\"\"Impute missing values.\n",
    "\n",
    "        Columns of dtype object are imputed with the most frequent value \n",
    "        in column.\n",
    "\n",
    "        Columns of other types are imputed with mean of column.\n",
    "\n",
    "        \"\"\"\n",
    "    def fit(self, X, y=None):\n",
    "\n",
    "        self.fill = pd.Series([X[c].value_counts().index[0]\n",
    "            if X[c].dtype == np.dtype('O') else X[c].mean() for c in X],\n",
    "            index=X.columns)\n",
    "\n",
    "        return self\n",
    "\n",
    "    def transform(self, X, y=None):\n",
    "        return X.fillna(self.fill)"
   ]
  },
  {
   "cell_type": "code",
   "execution_count": null,
   "id": "9081ead1",
   "metadata": {},
   "outputs": [],
   "source": [
    "df_train_fill = DataFrameImputer().fit_transform(df_train)"
   ]
  },
  {
   "cell_type": "code",
   "execution_count": null,
   "id": "79349c37",
   "metadata": {
    "scrolled": true
   },
   "outputs": [],
   "source": [
    "df_test_fill = DataFrameImputer().fit_transform(df_test)"
   ]
  },
  {
   "cell_type": "code",
   "execution_count": null,
   "id": "dfa8403e",
   "metadata": {},
   "outputs": [],
   "source": [
    "df_train_fill.info()"
   ]
  },
  {
   "cell_type": "code",
   "execution_count": null,
   "id": "15dfb184",
   "metadata": {},
   "outputs": [],
   "source": [
    "cat = CatBoostRegressor()\n",
    "cat_features = cat_features = [1,2,3,4,5,6,7,10,11,12,13]"
   ]
  },
  {
   "cell_type": "code",
   "execution_count": null,
   "id": "4f88a685",
   "metadata": {},
   "outputs": [],
   "source": [
    "features_train = df_train_fill.drop(['sellingprice'], axis=1)\n",
    "target_train = df_train_fill['sellingprice']\n",
    "\n",
    "features_test = df_test_fill\n"
   ]
  },
  {
   "cell_type": "code",
   "execution_count": null,
   "id": "ac9b1ed8",
   "metadata": {},
   "outputs": [],
   "source": [
    "#cat.fit(features_train, target_train, \n",
    "#        cat_features = [1,2,3,4,5,6,7,10,11,12,13],\n",
    "#        verbose=False, plot=True)"
   ]
  },
  {
   "cell_type": "code",
   "execution_count": null,
   "id": "196840e5",
   "metadata": {},
   "outputs": [],
   "source": [
    "%%time\n",
    "params = {\"iterations\": 100,\n",
    "          \"depth\": 2,\n",
    "          \"loss_function\": \"MAPE\",\n",
    "          \"verbose\": False}\n",
    "cv_dataset = Pool(data=features_train,\n",
    "                  label=target_train, cat_features=cat_features)\n",
    "scores = cv(cv_dataset,\n",
    "            params,\n",
    "            fold_count=2, \n",
    "            plot=\"True\")"
   ]
  },
  {
   "cell_type": "code",
   "execution_count": null,
   "id": "ce137c5b",
   "metadata": {
    "scrolled": true
   },
   "outputs": [],
   "source": [
    "%%time\n",
    "param_grid = {'depth':[3,1,2,6,4,5,7,8,9,10],\n",
    "          'iterations':[250,100,500,1000],\n",
    "          'learning_rate':[0.03,0.001,0.01,0.1,0.2,0.3], \n",
    "          'l2_leaf_reg':[3,1,5,10,100],\n",
    "          'border_count':[32,5,10,20,50,100,200],\n",
    "          'ctr_border_count':[50,5,10,20,100,200],\n",
    "          'thread_count':4\n",
    "model = CatBoostRegressor(loss_function='MAPE',\n",
    "                          eval_metric = 'MAPE',\n",
    "                          cat_features=[1,2,3,4,5,6,7,10,11,12,13],\n",
    "                         random_state=1602\n",
    "                         )\n",
    "\n",
    "gs_cb = GridSearchCV(model, param_grid, scoring='neg_mean_absolute_percentage_error', n_jobs=-1, cv=3)\n",
    "gs_cb.fit(features_train, target_train)\n",
    "\n",
    "best_cb = gs_cb.best_estimator_"
   ]
  },
  {
   "cell_type": "code",
   "execution_count": null,
   "id": "869b26e6",
   "metadata": {},
   "outputs": [],
   "source": []
  }
 ],
 "metadata": {
  "kernelspec": {
   "display_name": "Python 3 (ipykernel)",
   "language": "python",
   "name": "python3"
  },
  "language_info": {
   "codemirror_mode": {
    "name": "ipython",
    "version": 3
   },
   "file_extension": ".py",
   "mimetype": "text/x-python",
   "name": "python",
   "nbconvert_exporter": "python",
   "pygments_lexer": "ipython3",
   "version": "3.9.12"
  }
 },
 "nbformat": 4,
 "nbformat_minor": 5
}
